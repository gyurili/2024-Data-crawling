{
 "cells": [
  {
   "cell_type": "code",
   "execution_count": 7,
   "metadata": {},
   "outputs": [],
   "source": [
    "from bs4 import BeautifulSoup"
   ]
  },
  {
   "cell_type": "markdown",
   "metadata": {},
   "source": [
    "<html>\n",
    "    <head>\n",
    "        <title>BeautifulSoup Example</title>\n",
    "    </head>\n",
    "    <body>\n",
    "        <h1>Web Crawling Process</h1>\n",
    "        <p>1. requests: 웹 페이지의 HTML을 가져오는 역할</p>\n",
    "        <p>2. BeautifulSoupL: HTML 문서 파싱을 도와준다.</p>\n",
    "        <p>3. 원하는 요소를 선택한다.</p>\n",
    "    </body>\n",
    "</html>\n"
   ]
  },
  {
   "cell_type": "code",
   "execution_count": 8,
   "metadata": {},
   "outputs": [],
   "source": [
    "html_doc = '''\n",
    "<html>\n",
    "    <head>\n",
    "        <title>BeautifulSoup Example</title>\n",
    "    </head>\n",
    "    <body>\n",
    "        <h1>Web Crawling Process</h1>\n",
    "        <p>1. requests: 웹 페이지의 HTML을 가져오는 역할</p>\n",
    "        <p>2. BeautifulSoupL: HTML 문서 파싱을 도와준다.</p>\n",
    "        <p>3. 원하는 요소를 선택한다.</p>\n",
    "    </body>\n",
    "</html>\n",
    "'''"
   ]
  },
  {
   "cell_type": "code",
   "execution_count": 9,
   "metadata": {},
   "outputs": [
    {
     "name": "stdout",
     "output_type": "stream",
     "text": [
      "Requirement already satisfied: beautifulsoup4 in c:\\gyuri\\lib\\site-packages (4.12.2)\n",
      "Requirement already satisfied: soupsieve>1.2 in c:\\gyuri\\lib\\site-packages (from beautifulsoup4) (2.4)\n"
     ]
    }
   ],
   "source": [
    "soup = BeautifulSoup(html_doc, 'html.parser')"
   ]
  },
  {
   "cell_type": "code",
   "execution_count": 10,
   "metadata": {},
   "outputs": [],
   "source": [
    "title = soup.title\n",
    "heading1 = soup.h1\n",
    "paragraph = soup.p"
   ]
  },
  {
   "cell_type": "code",
   "execution_count": 13,
   "metadata": {},
   "outputs": [
    {
     "data": {
      "text/plain": [
       "'1. requests: 웹 페이지의 HTML을 가져오는 역할'"
      ]
     },
     "execution_count": 13,
     "metadata": {},
     "output_type": "execute_result"
    }
   ],
   "source": [
    "title.text\n",
    "heading1.text"
   ]
  },
  {
   "cell_type": "code",
   "execution_count": 20,
   "metadata": {},
   "outputs": [
    {
     "data": {
      "text/plain": [
       "[<p>1. requests: 웹 페이지의 HTML을 가져오는 역할</p>,\n",
       " <p>2. BeautifulSoupL: HTML 문서 파싱을 도와준다.</p>,\n",
       " <p>3. 원하는 요소를 선택한다.</p>]"
      ]
     },
     "execution_count": 20,
     "metadata": {},
     "output_type": "execute_result"
    }
   ],
   "source": [
    "paragraph_all = soup.find_all('p')\n",
    "paragraph_all"
   ]
  },
  {
   "cell_type": "code",
   "execution_count": 21,
   "metadata": {},
   "outputs": [
    {
     "name": "stdout",
     "output_type": "stream",
     "text": [
      "1. requests: 웹 페이지의 HTML을 가져오는 역할\n",
      "2. BeautifulSoupL: HTML 문서 파싱을 도와준다.\n",
      "3. 원하는 요소를 선택한다.\n"
     ]
    }
   ],
   "source": [
    "for p in paragraph_all:\n",
    "    print(p.text)"
   ]
  }
 ],
 "metadata": {
  "kernelspec": {
   "display_name": "Python 3",
   "language": "python",
   "name": "python3"
  },
  "language_info": {
   "codemirror_mode": {
    "name": "ipython",
    "version": 3
   },
   "file_extension": ".py",
   "mimetype": "text/x-python",
   "name": "python",
   "nbconvert_exporter": "python",
   "pygments_lexer": "ipython3",
   "version": "3.11.4"
  }
 },
 "nbformat": 4,
 "nbformat_minor": 2
}
